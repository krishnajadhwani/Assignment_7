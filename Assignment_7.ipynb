{
 "cells": [
  {
   "cell_type": "markdown",
   "id": "db96b6b8-94e6-4168-9901-de2e90f648a5",
   "metadata": {},
   "source": [
    "Q1. write a program  to accept percentage from the user and display the grade according to the following criteria    Marks: >90 A, >80 and <=90 B, >=60 and <+80 C, below 60 D."
   ]
  },
  {
   "cell_type": "code",
   "execution_count": 1,
   "id": "c93bbb4c-0169-4974-b812-e20a22c9c4bb",
   "metadata": {},
   "outputs": [
    {
     "name": "stdin",
     "output_type": "stream",
     "text": [
      "Enter the percentage:  75\n"
     ]
    },
    {
     "name": "stdout",
     "output_type": "stream",
     "text": [
      "Grade: C\n"
     ]
    }
   ],
   "source": [
    "def calculate_grade(percentage):\n",
    "    if percentage > 90:\n",
    "        return 'A'\n",
    "    elif percentage > 80:\n",
    "        return 'B'\n",
    "    elif percentage >= 60:\n",
    "        return 'C'\n",
    "    else:\n",
    "        return 'D'\n",
    "\n",
    "def main():\n",
    "    try:\n",
    "        percentage = float(input(\"Enter the percentage: \"))\n",
    "        if 0 <= percentage <= 100:\n",
    "            grade = calculate_grade(percentage)\n",
    "            print(f\"Grade: {grade}\")\n",
    "        else:\n",
    "            print(\"Percentage must be between 0 and 100.\")\n",
    "    except ValueError:\n",
    "        print(\"Invalid input. Please enter a valid percentage.\")\n",
    "\n",
    "if __name__ == \"__main__\":\n",
    "    main()"
   ]
  },
  {
   "cell_type": "markdown",
   "id": "4c1717bd-446c-4d3e-9820-4ef3c6d51d92",
   "metadata": {},
   "source": [
    "Q2. Write a Following program to accept the cost prce of bike  and display the road tax to be paid according to the following criteria ?Tax: 15%: >100000, 10% : >50 and<=100000, 5% <=50000?\n"
   ]
  },
  {
   "cell_type": "code",
   "execution_count": 2,
   "id": "8b98a29d-481b-402b-a76a-52a7ec6a93ee",
   "metadata": {},
   "outputs": [
    {
     "name": "stdin",
     "output_type": "stream",
     "text": [
      "Enter the cost price of the bike:  93\n"
     ]
    },
    {
     "name": "stdout",
     "output_type": "stream",
     "text": [
      "Road tax to be paid: 4.65\n"
     ]
    }
   ],
   "source": [
    "def calculate_road_tax(cost_price):\n",
    "    if cost_price > 100000:\n",
    "        return cost_price * 0.15\n",
    "    elif cost_price > 50000:\n",
    "        return cost_price * 0.10\n",
    "    elif cost_price <= 50000:\n",
    "        return cost_price * 0.05\n",
    "\n",
    "def main():\n",
    "    try:\n",
    "        cost_price = float(input(\"Enter the cost price of the bike: \"))\n",
    "        if cost_price > 0:\n",
    "            road_tax = calculate_road_tax(cost_price)\n",
    "            print(f\"Road tax to be paid: {road_tax:.2f}\")\n",
    "        else:\n",
    "            print(\"Cost price must be a positive value.\")\n",
    "    except ValueError:\n",
    "        print(\"Invalid input. Please enter a valid cost price.\")\n",
    "\n",
    "if __name__ == \"__main__\":\n",
    "    main()"
   ]
  },
  {
   "cell_type": "markdown",
   "id": "16929b23-d13a-428a-b6e1-2cde4973bc13",
   "metadata": {},
   "source": [
    "3. Accept any city from the user and display monuments of that city?  Delhi: Red Fort, Agra: Tajmahal, Jaipur: Jal mahal?"
   ]
  },
  {
   "cell_type": "code",
   "execution_count": 5,
   "id": "cac3d7a6-8023-4f07-934a-31a6117aebfe",
   "metadata": {},
   "outputs": [
    {
     "name": "stdin",
     "output_type": "stream",
     "text": [
      "Enter a city name:  Delhi\n"
     ]
    },
    {
     "name": "stdout",
     "output_type": "stream",
     "text": [
      "The monument(s) in Delhi is/are: Red Fort\n"
     ]
    }
   ],
   "source": [
    "def display_monuments(city):\n",
    "    monuments_dict = {\n",
    "        'Delhi': 'Red Fort',\n",
    "        'Agra': 'Taj Mahal',\n",
    "        'Jaipur': 'Jal Mahal'\n",
    "    }\n",
    "\n",
    "    monument = monuments_dict.get(city)\n",
    "    if monument:\n",
    "        print(f\"The monument(s) in {city} is/are: {monument}\")\n",
    "    else:\n",
    "        print(f\"Sorry, there is no information about the monument(s) in {city}.\")\n",
    "\n",
    "def main():\n",
    "    city = input(\"Enter a city name: \")\n",
    "    display_monuments(city)\n",
    "\n",
    "if __name__ == \"__main__\":\n",
    "    main()\n",
    "\n",
    "\n",
    "\n",
    "\n",
    "\n"
   ]
  },
  {
   "cell_type": "markdown",
   "id": "36e3c0f3-d3aa-4156-844f-cd2bc6a95b1e",
   "metadata": {},
   "source": [
    "4. Check how many times  a given number can be divided by 3 before it is less than or equal to 10?"
   ]
  },
  {
   "cell_type": "code",
   "execution_count": 7,
   "id": "36affd44-0127-400f-b2cd-a00abd47cc23",
   "metadata": {},
   "outputs": [
    {
     "name": "stdin",
     "output_type": "stream",
     "text": [
      "Enter a number:  75\n"
     ]
    },
    {
     "name": "stdout",
     "output_type": "stream",
     "text": [
      "The number can be divided by 3 2 times before it is less than or equal to 10.\n"
     ]
    }
   ],
   "source": [
    "def times_divisible_by_3(number):\n",
    "    count = 0\n",
    "    while number > 10:\n",
    "        number /= 3\n",
    "        count += 1\n",
    "    return count\n",
    "\n",
    "def main():\n",
    "    try:\n",
    "        number = float(input(\"Enter a number: \"))\n",
    "        count = times_divisible_by_3(number)\n",
    "        print(f\"The number can be divided by 3 {count} times before it is less than or equal to 10.\")\n",
    "    except ValueError:\n",
    "        print(\"Invalid input. Please enter a valid number.\")\n",
    "\n",
    "if __name__ == \"__main__\":\n",
    "    main()"
   ]
  },
  {
   "cell_type": "markdown",
   "id": "b798a754-31b5-4637-869d-86a0f3365fea",
   "metadata": {},
   "source": [
    "5. Why and When to use while loop in pyhton to give detialed description  with example?"
   ]
  },
  {
   "cell_type": "markdown",
   "id": "4bacba19-4434-4b65-b621-d3de13e001d5",
   "metadata": {},
   "source": [
    "A while loop in Python is used to repeatedly execute a block of code as long as a certain condition is true. It is useful when you need to repeat an action until a specific condition is met, and the number of iterations is not known beforehand. The loop continues executing as long as the condition remains true, and it stops when the condition becomes false or when a break statement is encountered within the loop."
   ]
  },
  {
   "cell_type": "code",
   "execution_count": 8,
   "id": "4e066060-1f94-4cf9-bd07-92162db2149d",
   "metadata": {},
   "outputs": [
    {
     "name": "stdout",
     "output_type": "stream",
     "text": [
      "1\n",
      "2\n",
      "3\n",
      "4\n",
      "5\n"
     ]
    }
   ],
   "source": [
    "num = 1\n",
    "while num <= 5:\n",
    "    print(num)\n",
    "    num += 1"
   ]
  },
  {
   "cell_type": "markdown",
   "id": "6a1ef5b8-4e77-4b73-9d01-e666ef2e00c2",
   "metadata": {},
   "source": [
    "6. Use nested while loop to print 3 differnet pattern?"
   ]
  },
  {
   "cell_type": "code",
   "execution_count": 9,
   "id": "61e3bbb1-5104-4434-b058-4863df6ed8bb",
   "metadata": {},
   "outputs": [
    {
     "name": "stdout",
     "output_type": "stream",
     "text": [
      "Pattern 1:\n",
      "*\n",
      "**\n",
      "***\n",
      "****\n",
      "*****\n"
     ]
    }
   ],
   "source": [
    "def print_pattern_1(rows):\n",
    "    i = 1\n",
    "    while i <= rows:\n",
    "        j = 1\n",
    "        while j <= i:\n",
    "            print(\"*\", end=\"\")\n",
    "            j += 1\n",
    "        print()\n",
    "        i += 1\n",
    "\n",
    "print(\"Pattern 1:\")\n",
    "print_pattern_1(5)"
   ]
  },
  {
   "cell_type": "code",
   "execution_count": 10,
   "id": "d4832e05-fe3f-48ee-80fa-6077ef13dd53",
   "metadata": {},
   "outputs": [
    {
     "name": "stdout",
     "output_type": "stream",
     "text": [
      "Pattern 2:\n",
      "****\n",
      "****\n",
      "****\n",
      "****\n"
     ]
    }
   ],
   "source": [
    "def print_pattern_2(rows):\n",
    "    i = 1\n",
    "    while i <= rows:\n",
    "        j = 1\n",
    "        while j <= rows:\n",
    "            print(\"*\", end=\"\")\n",
    "            j += 1\n",
    "        print()\n",
    "        i += 1\n",
    "\n",
    "print(\"Pattern 2:\")\n",
    "print_pattern_2(4)"
   ]
  },
  {
   "cell_type": "code",
   "execution_count": 11,
   "id": "4b868ab7-10df-49db-a880-083617295407",
   "metadata": {},
   "outputs": [
    {
     "name": "stdout",
     "output_type": "stream",
     "text": [
      "Pattern 3:\n",
      "   *\n",
      "  ***\n",
      " *****\n",
      "*******\n"
     ]
    }
   ],
   "source": [
    "def print_pattern_3(rows):\n",
    "    i = 1\n",
    "    while i <= rows:\n",
    "        spaces = rows - i\n",
    "        while spaces > 0:\n",
    "            print(\" \", end=\"\")\n",
    "            spaces -= 1\n",
    "        stars = 2 * i - 1\n",
    "        while stars > 0:\n",
    "            print(\"*\", end=\"\")\n",
    "            stars -= 1\n",
    "        print()\n",
    "        i += 1\n",
    "\n",
    "print(\"Pattern 3:\")\n",
    "print_pattern_3(4)"
   ]
  },
  {
   "cell_type": "markdown",
   "id": "498ae2fb-acb0-4f01-9382-d78886dfd66c",
   "metadata": {},
   "source": [
    "7.Reverse a while loop to display numbers from 1 to 10"
   ]
  },
  {
   "cell_type": "code",
   "execution_count": 15,
   "id": "3fd4f103-ada1-47c5-ad97-193cbb30c551",
   "metadata": {},
   "outputs": [
    {
     "name": "stdout",
     "output_type": "stream",
     "text": [
      "10\n",
      "9\n",
      "8\n",
      "7\n",
      "6\n",
      "5\n",
      "4\n",
      "3\n",
      "2\n",
      "1\n"
     ]
    }
   ],
   "source": [
    "num = 10\n",
    "while num >= 1:\n",
    "    print(num)\n",
    "    num -= 1"
   ]
  },
  {
   "cell_type": "code",
   "execution_count": null,
   "id": "c9e86834-bd54-4870-a6d6-c649923bdadf",
   "metadata": {},
   "outputs": [],
   "source": []
  }
 ],
 "metadata": {
  "kernelspec": {
   "display_name": "Python 3 (ipykernel)",
   "language": "python",
   "name": "python3"
  },
  "language_info": {
   "codemirror_mode": {
    "name": "ipython",
    "version": 3
   },
   "file_extension": ".py",
   "mimetype": "text/x-python",
   "name": "python",
   "nbconvert_exporter": "python",
   "pygments_lexer": "ipython3",
   "version": "3.10.8"
  }
 },
 "nbformat": 4,
 "nbformat_minor": 5
}
